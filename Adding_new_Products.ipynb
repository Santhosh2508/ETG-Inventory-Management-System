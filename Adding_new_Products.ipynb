{
  "nbformat": 4,
  "nbformat_minor": 0,
  "metadata": {
    "colab": {
      "name": "Adding new Products.ipynb",
      "provenance": [],
      "collapsed_sections": [],
      "authorship_tag": "ABX9TyOHsyF5VS8jcrpnyr/1Q8ZS",
      "include_colab_link": true
    },
    "kernelspec": {
      "name": "python3",
      "display_name": "Python 3"
    },
    "language_info": {
      "name": "python"
    }
  },
  "cells": [
    {
      "cell_type": "markdown",
      "metadata": {
        "id": "view-in-github",
        "colab_type": "text"
      },
      "source": [
        "<a href=\"https://colab.research.google.com/github/Santhosh2508/ETG-Inventory-Management-System/blob/main/Adding_new_Products.ipynb\" target=\"_parent\"><img src=\"https://colab.research.google.com/assets/colab-badge.svg\" alt=\"Open In Colab\"/></a>"
      ]
    },
    {
      "cell_type": "markdown",
      "metadata": {
        "id": "rxypLlvx7cVt"
      },
      "source": [
        "# **Read Data from JSON**"
      ]
    },
    {
      "cell_type": "code",
      "metadata": {
        "id": "7N3u0fXt7oIQ"
      },
      "source": [
        "import json\n",
        "fd = open(\"record.json\",'r')\n",
        "r = fd.read()\n",
        "fd.close()\n",
        "\n",
        "record = json.loads(r)"
      ],
      "execution_count": null,
      "outputs": []
    },
    {
      "cell_type": "markdown",
      "metadata": {
        "id": "15Ekb8WTceRt"
      },
      "source": [
        "# **View Records**"
      ]
    },
    {
      "cell_type": "code",
      "metadata": {
        "id": "2SNAHI8Zci2g"
      },
      "source": [
        "record"
      ],
      "execution_count": null,
      "outputs": []
    },
    {
      "cell_type": "markdown",
      "metadata": {
        "id": "JLtG2d2pY_xL"
      },
      "source": [
        "# **Fuction to check does Product ID already exist in records**"
      ]
    },
    {
      "cell_type": "code",
      "metadata": {
        "id": "gW5jIk-LY-ew"
      },
      "source": [
        "def checkKey(dict, key):\n",
        "        if key in dict:\n",
        "            print(\"\\n \\nThe Product ID \", product_id, \" Already Exist \")\n",
        "            print(\"value =\", record[product_id])\n",
        "            quantity = int(input(\"Enter Quantity: \"))\n",
        "            print(\"The Old Quantity : \",record[product_id]['Quantity'], \"Will be updated with  New Quantity : \", quantity, \" entered of Product ID : \", product_id)\n",
        "            print(\"\\n\\n\")\n",
        "            record[product_id]['Quantity'] += quantity\n",
        "        else:\n",
        "            return 1"
      ],
      "execution_count": null,
      "outputs": []
    },
    {
      "cell_type": "markdown",
      "metadata": {
        "id": "h7zL7hJMCu2t"
      },
      "source": [
        "# **Add New Item into Inventory**"
      ]
    },
    {
      "cell_type": "code",
      "metadata": {
        "id": "bKKdYO4UcD7i"
      },
      "source": [
        "print(\"Welcome to Inventory Data system \\n\\nYou can add Product Data into the Records \\n\")\n",
        "print(\"******************************** \\n \\n\")\n",
        "print(\"Enter the Number of products you want to add into the Data(Records) \")\n",
        "num = int(input())\n",
        "print(\"Enter the Product Details of \" , num , \" products\")\n",
        "\n",
        "\n",
        "for i in range(0,num):\n",
        "  print(\"Enter the Product \" ,i+1,\" Details \")\n",
        "\n",
        "  product_id = str(input(\"Enter Product id: \"))\n",
        "  res = 0\n",
        "  res = checkKey(record, product_id)\n",
        "  if (res == 1):\n",
        "     name = str(input(\"Enter Name: \"))\n",
        "     price = int(input(\"Enter Price: \"))\n",
        "     quantity = int(input(\"Enter Quantity: \"))\n",
        "     category = str(input(\"Enter Category: \"))\n",
        "     manu_name = str(input(\"Enter Manufacturer Name: \"))\n",
        "     print(\"\\n********************************* \\n\")\n",
        "     record[product_id] = {'Product': product_id, 'Price': price, 'Quantity': quantity , 'Category': category , 'Manufacturer': manu_name}"
      ],
      "execution_count": null,
      "outputs": []
    },
    {
      "cell_type": "markdown",
      "metadata": {
        "id": "gxbygTN3ZfUx"
      },
      "source": [
        "# **Write Data to JSON**"
      ]
    },
    {
      "cell_type": "code",
      "metadata": {
        "id": "sJyPKXpyZM89"
      },
      "source": [
        "js = json.dumps(record)\n",
        "fd = open(\"record.json\",'w')\n",
        "fd.write(js)\n",
        "fd.close()"
      ],
      "execution_count": null,
      "outputs": []
    }
  ]
}