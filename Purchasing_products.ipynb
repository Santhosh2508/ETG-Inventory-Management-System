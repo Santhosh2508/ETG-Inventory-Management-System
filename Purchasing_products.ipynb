{
  "nbformat": 4,
  "nbformat_minor": 0,
  "metadata": {
    "colab": {
      "name": "Purchasing products.ipynb",
      "provenance": [],
      "collapsed_sections": [],
      "authorship_tag": "ABX9TyNYDymENSw9DQQO9XPh/+Ir",
      "include_colab_link": true
    },
    "kernelspec": {
      "name": "python3",
      "display_name": "Python 3"
    },
    "language_info": {
      "name": "python"
    }
  },
  "cells": [
    {
      "cell_type": "markdown",
      "metadata": {
        "id": "view-in-github",
        "colab_type": "text"
      },
      "source": [
        "<a href=\"https://colab.research.google.com/github/Santhosh2508/ETG-Inventory-Management-System/blob/main/Purchasing_products.ipynb\" target=\"_parent\"><img src=\"https://colab.research.google.com/assets/colab-badge.svg\" alt=\"Open In Colab\"/></a>"
      ]
    },
    {
      "cell_type": "markdown",
      "metadata": {
        "id": "1J9R4vmNhDmR"
      },
      "source": [
        "# **Read Inventory**"
      ]
    },
    {
      "cell_type": "code",
      "metadata": {
        "id": "aSPNoTTQGNq-"
      },
      "source": [
        "import json\n",
        "import time\n",
        "import uuid\n",
        "\n",
        "fd = open(\"record.json\",'r')\n",
        "r = fd.read()\n",
        "fd.close()\n",
        "\n",
        "records = json.loads(r)"
      ],
      "execution_count": null,
      "outputs": []
    },
    {
      "cell_type": "markdown",
      "metadata": {
        "id": "f-oWceMyiutx"
      },
      "source": [
        "# **Read Sales**"
      ]
    },
    {
      "cell_type": "code",
      "metadata": {
        "id": "wHsqBqCfi3Jg"
      },
      "source": [
        "fd = open(\"sales.json\",'r')\n",
        "ja = fd.read()\n",
        "fd.close()\n",
        "sales = json.loads(ja)"
      ],
      "execution_count": null,
      "outputs": []
    },
    {
      "cell_type": "markdown",
      "metadata": {
        "id": "KzMKfiRqhSEK"
      },
      "source": [
        "# **View Records**"
      ]
    },
    {
      "cell_type": "code",
      "metadata": {
        "id": "VeCuMAXXhXhU"
      },
      "source": [
        "records"
      ],
      "execution_count": null,
      "outputs": []
    },
    {
      "cell_type": "markdown",
      "metadata": {
        "id": "c8qkpeIBhcc3"
      },
      "source": [
        "# **Purchase**"
      ]
    },
    {
      "cell_type": "markdown",
      "metadata": {
        "id": "CwblezUWi7H1"
      },
      "source": [
        "# **Display Inventory**"
      ]
    },
    {
      "cell_type": "code",
      "metadata": {
        "id": "GcI-JxgyjDJV"
      },
      "source": [
        "def view_inventory():\n",
        "  for i in records:\n",
        "    print(\"Product ID : \" , i, \" -> Product Name : \" , records[i][\"Product\"] ,\" -> Product Price : \" ,records[i][\"Price\"] )\n",
        "    print(\"Product Quantity : \" ,records[i][\"Quantity\"],\" -> Product Category : \" , records[i][\"Category\"] ,\" -> Product Manufacturer : \" , records[i][\"Manufacturer\"] )\n",
        "    print(\"\\n----------------------------------------------------------------------------------------------------------------------------------------\\n\")\n"
      ],
      "execution_count": null,
      "outputs": []
    },
    {
      "cell_type": "markdown",
      "metadata": {
        "id": "tb6ZR7lcjHYC"
      },
      "source": [
        "# **Update Inventory Data/Records**"
      ]
    },
    {
      "cell_type": "code",
      "metadata": {
        "id": "Q_RZO0XcjQO6"
      },
      "source": [
        "def record_update():\n",
        "  rs = json.dumps(records)\n",
        "  fd = open(\"record.json\",'w')\n",
        "  fd.write(rs)\n",
        "  fd.close()"
      ],
      "execution_count": null,
      "outputs": []
    },
    {
      "cell_type": "markdown",
      "metadata": {
        "id": "uO14NV9bjVcA"
      },
      "source": [
        "# **Update Sales Data**"
      ]
    },
    {
      "cell_type": "code",
      "metadata": {
        "id": "OTZQv1TCjcS6"
      },
      "source": [
        "def sales_update(user_prod_id,user_prod_qn):\n",
        "  s = uuid.uuid4()\n",
        "  s=str(s)\n",
        "  random=s[0:8]\n",
        "\n",
        "  sales[random] = {'Product ID': user_prod_id ,'Product Name': records[user_prod_id]['Product'], \n",
        "                    'Amount': records[user_prod_id]['Price'] * user_prod_qn ,'Quantity':user_prod_qn ,'Time' : time.ctime()}\n",
        "\n",
        "  #updating sales.json\n",
        "  ws = json.dumps(sales)\n",
        "  fd = open(\"sales.json\",'w')\n",
        "  fd.write(ws)\n",
        "  fd.close()\n"
      ],
      "execution_count": null,
      "outputs": []
    },
    {
      "cell_type": "markdown",
      "metadata": {
        "id": "u5O_2zBxjmLd"
      },
      "source": [
        "# **Purchase Function**"
      ]
    },
    {
      "cell_type": "code",
      "metadata": {
        "id": "gsAntU-s_FzY"
      },
      "source": [
        "def purchase():\n",
        "  user_prod_id = str(input(\"Enter the Product ID: \"))\n",
        "\n",
        "  if user_prod_id in records :\n",
        "    print(\"Product Name : \" , records[user_prod_id]['Product'])\n",
        "  else :\n",
        "    user_prod_id =str(input(\"Product ID not found ,\\nPlease re-check the product key and enter\"))\n",
        "    \n",
        "  user_prod_qn = int(input(\"Enter the Quantity: \"))\n",
        "  if (user_prod_qn > records[user_prod_id][\"Quantity\"]):\n",
        "    print(\"Sorry for Inconvenience , The product your looking for is out of stock\")\n",
        "    print(\"Please buy some other Products/items\")\n",
        "  \n",
        "  print(\"Price: \", records[user_prod_id]['Price'])\n",
        "  Billing_Amount = records[user_prod_id]['Price'] * user_prod_qn\n",
        "  print(\"Billing Amount: \", records[user_prod_id]['Price'] * user_prod_qn)\n",
        "  records[user_prod_id]['Quantity'] = records[user_prod_id]['Quantity'] - user_prod_qn\n",
        "  \n",
        "  #calling Update record fuction \n",
        "  record_update()\n",
        "\n",
        "  #calling update sales fuction\n",
        "  sales_update(user_prod_id,user_prod_qn)\n",
        "\n",
        "  print(\"Purchase Done.\")\n",
        "  return Billing_Amount"
      ],
      "execution_count": null,
      "outputs": []
    },
    {
      "cell_type": "markdown",
      "metadata": {
        "id": "1D2tnNXglOcs"
      },
      "source": [
        "# **Main Program**"
      ]
    },
    {
      "cell_type": "code",
      "metadata": {
        "id": "eauP_wIDhh54"
      },
      "source": [
        "print(\"Welcome to Santhosh BIG Market \")\n",
        "print(\"\\n ************************\\n \")\n",
        "bill=0\n",
        "print(\"\\nPlease enter the choice \\n\")\n",
        "print(\"\\n1.View Inventory Records \\n2.Buy Products \\n3.Exit\")\n",
        "choice = int(input())\n",
        "if  ( choice == 1):\n",
        "  print('\\n----------------------------------\\n')\n",
        "\n",
        "  print(\"\\nItems available in Santhosh BIG Market \\n\")\n",
        "  \n",
        "  print('\\n----------------------------------\\n')\n",
        "  view_inventory()\n",
        "  blah=str(input(\"\\n Do you want to Buy items : \\n Y/N  \")).lower()\n",
        "  if (blah=='y'):\n",
        "    bill = purchase()\n",
        "    more = str(input(\"\\n Do you want to buy more Product : y/n \\n\")).lower()\n",
        "    if (more ==\"y\"):\n",
        "      bill += purchase()\n",
        "      print(\"Thank you For Purchasing..\\n     Visit Again....\")\n",
        "\n",
        "if(choice == 2):\n",
        "  bla=str(input(\"\\nDo you want to view inventory : y/n \\n\")).lower()\n",
        "  if (bla == 'y'):\n",
        "    view_inventory()\n",
        "  bill += purchase()\n",
        "  more = str(input(\"\\n Do you want to buy more Product : y/n \\n\")).lower()\n",
        "  if (more ==\"y\"):\n",
        "    bill += purchase()\n",
        "    print(\"Thank you For Purchasing..\\n     Visit Again....\")\n",
        "\n",
        "print(\"Total Bill : \" , bill)\n",
        "\n",
        "\n",
        "print(\"\\nThank You .... Vist Again\\n\")\n",
        "\n",
        "\n"
      ],
      "execution_count": null,
      "outputs": []
    }
  ]
}